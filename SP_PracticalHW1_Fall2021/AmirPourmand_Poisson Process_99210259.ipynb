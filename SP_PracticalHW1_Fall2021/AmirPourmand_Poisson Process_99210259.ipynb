{
 "cells": [
  {
   "cell_type": "markdown",
   "metadata": {},
   "source": [
    "### Author: AmirPourmand\n",
    "### Student No: 99210259"
   ]
  },
  {
   "cell_type": "markdown",
   "metadata": {
    "id": "6WB4uf_XxD6y"
   },
   "source": [
    "### Required imports"
   ]
  },
  {
   "cell_type": "code",
   "execution_count": 3,
   "metadata": {
    "executionInfo": {
     "elapsed": 11,
     "status": "ok",
     "timestamp": 1638445047251,
     "user": {
      "displayName": "Armin Behnamnia",
      "photoUrl": "https://lh3.googleusercontent.com/a/default-user=s64",
      "userId": "17496621713830695016"
     },
     "user_tz": -210
    },
    "id": "ZybGBfOzwwsc"
   },
   "outputs": [],
   "source": [
    "import numpy as np\n",
    "import matplotlib.pyplot as plt\n",
    "%matplotlib inline"
   ]
  },
  {
   "cell_type": "markdown",
   "metadata": {
    "id": "dQY8Gpv_wR-E"
   },
   "source": [
    "### Set your student number as random seed"
   ]
  },
  {
   "cell_type": "code",
   "execution_count": 2,
   "metadata": {
    "id": "nKjaIUr1wOmk"
   },
   "outputs": [],
   "source": [
    "np.random.seed(99210259)"
   ]
  },
  {
   "cell_type": "markdown",
   "metadata": {
    "id": "g4Iol_t9w38x"
   },
   "source": [
    "### Possion process parameter (lambda) is 0.1 for all experiments except \"Random Splitting\" section and is stored in variable l."
   ]
  },
  {
   "cell_type": "code",
   "execution_count": 3,
   "metadata": {
    "id": "eQfUDTAHwu3V"
   },
   "outputs": [],
   "source": [
    "l = 0.1"
   ]
  },
  {
   "cell_type": "markdown",
   "metadata": {
    "id": "d3pzGpx7VPEq"
   },
   "source": [
    "# Generate Poisson Process"
   ]
  },
  {
   "cell_type": "markdown",
   "metadata": {
    "id": "_5kbAFeMVUK5"
   },
   "source": [
    "1. Generate a poisson process with 100 samples.\n",
    "2. Plot the points. "
   ]
  },
  {
   "cell_type": "code",
   "execution_count": 26,
   "metadata": {},
   "outputs": [],
   "source": [
    "def generate_poisson_process(l,sample_count=100):\n",
    "    return np.cumsum(np.random.exponential(scale=1/l,size=(sample_count)))"
   ]
  },
  {
   "cell_type": "code",
   "execution_count": 10,
   "metadata": {},
   "outputs": [],
   "source": [
    "np.set_printoptions(suppress=True)"
   ]
  },
  {
   "cell_type": "code",
   "execution_count": 28,
   "metadata": {
    "id": "6EBe2ETBfUio"
   },
   "outputs": [
    {
     "data": {
      "text/plain": [
       "[<matplotlib.lines.Line2D at 0x7f38a06a5af0>]"
      ]
     },
     "execution_count": 28,
     "metadata": {},
     "output_type": "execute_result"
    },
    {
     "data": {
      "image/png": "[encoded data removed]",
      "text/plain": [
       "<Figure size 432x288 with 1 Axes>"
      ]
     },
     "metadata": {
      "needs_background": "light"
     },
     "output_type": "display_data"
    }
   ],
   "source": [
    "plt.plot(generate_poisson_process(l,100),np.arange(0,100))"
   ]
  },
  {
   "cell_type": "markdown",
   "metadata": {
    "id": "7aP3KwOYlbVf"
   },
   "source": [
    "# Distribution of number of samples in arbitrary intervals"
   ]
  },
  {
   "cell_type": "markdown",
   "metadata": {
    "id": "Pj_5NEwptws1"
   },
   "source": [
    "### Expectation of number of samples"
   ]
  },
  {
   "cell_type": "markdown",
   "metadata": {
    "id": "i_Ff1gfjt5Xs"
   },
   "source": [
    "1. Generate a poission process consisting of 10000 samples.\n",
    "2. Compute number of points in 1000 random intevals\n",
    "3. Draw the graph of number of samples w.r.t. interval length\n",
    "4. Conclude the relationship between expectation of number of samples and interval length."
   ]
  },
  {
   "cell_type": "code",
   "execution_count": 99,
   "metadata": {
    "id": "tb46Tqj4qCIY"
   },
   "outputs": [
    {
     "data": {
      "text/plain": [
       "Text(0, 0.5, 'Lenght of interval')"
      ]
     },
     "execution_count": 99,
     "metadata": {},
     "output_type": "execute_result"
    },
    {
     "data": {
      "image/png": "[encoded data removed]",
      "text/plain": [
       "<Figure size 432x288 with 1 Axes>"
      ]
     },
     "metadata": {
      "needs_background": "light"
     },
     "output_type": "display_data"
    }
   ],
   "source": [
    "sample2=generate_poisson_process(l,10000)\n",
    "max_time=sample2.max()\n",
    "\n",
    "first = np.random.uniform(low=0,high=max_time,size=(1000))\n",
    "second = np.random.uniform(low=0,high=max_time,size=(1000))\n",
    "\n",
    "start_interval = np.minimum(first,second)\n",
    "end_interval = np.maximum(first,second)\n",
    "\n",
    "test= (start_interval[:,None]<=sample2)&(sample2<=end_interval[:,None])\n",
    "number_of_points = np.sum(test,axis=1)\n",
    "plt.plot(number_of_points,end_interval-start_interval)\n",
    "plt.xlabel(\"Number of points\")\n",
    "plt.ylabel(\"Lenght of interval\")"
   ]
  },
  {
   "cell_type": "markdown",
   "metadata": {},
   "source": [
    "- There is complete linear relationship between the two. Meaning that number of events at an interval only depends on the length of that interval. It does not depend of anything else! "
   ]
  },
  {
   "cell_type": "markdown",
   "metadata": {
    "id": "cVykNYO4u5R1"
   },
   "source": [
    "### PDF of number samples "
   ]
  },
  {
   "cell_type": "code",
   "execution_count": 132,
   "metadata": {},
   "outputs": [],
   "source": [
    "sample3=generate_poisson_process(l,10000)"
   ]
  },
  {
   "cell_type": "code",
   "execution_count": 138,
   "metadata": {},
   "outputs": [],
   "source": [
    "interval=np.arange(start=0,stop=sample3.max(),step=100)\n",
    "count_of_events=np.sum((interval[:,None]<=sample3)&(sample3<=(interval[:,None]+100)),axis=1)\n",
    "beta=np.average(count_of_events)\n",
    "l_estimated = 1/beta"
   ]
  },
  {
   "cell_type": "markdown",
   "metadata": {
    "id": "UBrPI9QUvPNf"
   },
   "source": [
    "1. Generate a poission process consisting of 10000 samples.\n",
    "2. For each consecutive interval of length 100 compute the number of samples\n",
    "3. Estimate the PDF\n",
    "4. Compute the real PDF (possion distribution)\n",
    "5. Compare estimated and real distributions in a single graph"
   ]
  },
  {
   "cell_type": "code",
   "execution_count": 164,
   "metadata": {
    "id": "WNAXtf3ETFZJ"
   },
   "outputs": [
    {
     "data": {
      "text/plain": [
       "<matplotlib.legend.Legend at 0x7f38956f37c0>"
      ]
     },
     "execution_count": 164,
     "metadata": {},
     "output_type": "execute_result"
    },
    {
     "data": {
      "image/png": "[encoded data removed]",
      "text/plain": [
       "<Figure size 432x288 with 1 Axes>"
      ]
     },
     "metadata": {
      "needs_background": "light"
     },
     "output_type": "display_data"
    }
   ],
   "source": [
    "values=np.arange(0,100,step=0.1)\n",
    "fig,ax= plt.subplots()\n",
    "ax.plot(values,l_estimated*np.exp(-1*l_estimated*values),'rx',label='estimated')\n",
    "ax.plot(values,l*np.exp(-1*l*values),'c*',label='real')\n",
    "ax.legend()"
   ]
  },
  {
   "cell_type": "markdown",
   "metadata": {
    "id": "c_DaS49KyuRb"
   },
   "source": [
    "# Expectation of the time of $i^{th}$ event."
   ]
  },
  {
   "cell_type": "markdown",
   "metadata": {
    "id": "s0MfWzmCy8px"
   },
   "source": [
    "1. Generate 1000 different poisson processes with 100 samples each.\n",
    "2. Compute the average time of $i^{th}$ event for $1 \\leq i \\leq 100$\n",
    "3. Compare the estimations with true expectations"
   ]
  },
  {
   "cell_type": "code",
   "execution_count": 183,
   "metadata": {
    "id": "lJnYxORNTIzc"
   },
   "outputs": [
    {
     "name": "stdout",
     "output_type": "stream",
     "text": [
      "estimation:  10.02776946417949\n",
      "expectation:  10.0\n"
     ]
    }
   ],
   "source": [
    "poisson_count =1000\n",
    "sample_count=100\n",
    "samples=np.cumsum(np.random.exponential(scale=1/l,size=(poisson_count,sample_count)),axis=1)\n",
    "print('estimation: ', np.average(np.diff(samples)))\n",
    "print('expectation: ',1/l)"
   ]
  },
  {
   "cell_type": "markdown",
   "metadata": {
    "id": "njkTwu0U3lYm"
   },
   "source": [
    "# Random Splitting"
   ]
  },
  {
   "cell_type": "markdown",
   "metadata": {
    "id": "WdOp6CJx4GHZ"
   },
   "source": [
    "1. Load Poission process from poisson_sample.npy (consists of time of events).\n",
    "2. Estimate the parameter of the process.\n",
    "3. Generate Poisson processes with parameter=0.2, 1, 5 with random splitting. (with the same number of events as the given process)\n",
    "4. Plot the genereted processes and store them as possion_{parameter_value}.npy."
   ]
  },
  {
   "cell_type": "code",
   "execution_count": 4,
   "metadata": {
    "executionInfo": {
     "elapsed": 479,
     "status": "ok",
     "timestamp": 1638445085977,
     "user": {
      "displayName": "Armin Behnamnia",
      "photoUrl": "https://lh3.googleusercontent.com/a/default-user=s64",
      "userId": "17496621713830695016"
     },
     "user_tz": -210
    },
    "id": "eQS8zFwL86Z3"
   },
   "outputs": [
    {
     "name": "stdout",
     "output_type": "stream",
     "text": [
      "12.705557209552078\n"
     ]
    }
   ],
   "source": [
    "sample=np.load('poisson_sample.npy')\n",
    "avg_time= np.average(np.diff(sample))\n",
    "l_estimated = 1/avg_time\n",
    "print(l_estimated)"
   ]
  },
  {
   "cell_type": "code",
   "execution_count": 11,
   "metadata": {},
   "outputs": [
    {
     "data": {
      "image/png": "[encoded data removed]",
      "text/plain": [
       "<Figure size 432x288 with 1 Axes>"
      ]
     },
     "metadata": {
      "needs_background": "light"
     },
     "output_type": "display_data"
    }
   ],
   "source": [
    "def split_poisson_process(parameter):\n",
    "    probability = parameter/l_estimated\n",
    "    mask=np.random.uniform(size=sample.shape) < probability\n",
    "    selected_items=sample[mask]\n",
    "    plt.plot(np.arange(selected_items.shape[0]),selected_items)\n",
    "    np.save(f'possion_{parameter}.npy',selected_items)\n",
    "    \n",
    "split_poisson_process(0.2)\n",
    "split_poisson_process(1)\n",
    "split_poisson_process(5)"
   ]
  },
  {
   "cell_type": "code",
   "execution_count": null,
   "metadata": {},
   "outputs": [],
   "source": []
  },
  {
   "cell_type": "code",
   "execution_count": null,
   "metadata": {},
   "outputs": [],
   "source": []
  }
 ],
 "metadata": {
  "colab": {
   "authorship_tag": "ABX9TyPhlMK+1dt7mrjjXY8Ih9z4",
   "collapsed_sections": [
    "6WB4uf_XxD6y",
    "dQY8Gpv_wR-E",
    "g4Iol_t9w38x",
    "d3pzGpx7VPEq",
    "Pj_5NEwptws1",
    "cVykNYO4u5R1",
    "c_DaS49KyuRb",
    "njkTwu0U3lYm"
   ],
   "name": "Poisson Process.ipynb",
   "provenance": []
  },
  "kernelspec": {
   "display_name": "Python 3 (ipykernel)",
   "language": "python",
   "name": "python3"
  },
  "language_info": {
   "codemirror_mode": {
    "name": "ipython",
    "version": 3
   },
   "file_extension": ".py",
   "mimetype": "text/x-python",
   "name": "python",
   "nbconvert_exporter": "python",
   "pygments_lexer": "ipython3",
   "version": "3.9.7"
  }
 },
 "nbformat": 4,
 "nbformat_minor": 1
}
