{
 "cells": [
  {
   "cell_type": "markdown",
   "metadata": {
    "id": "13d36fb0"
   },
   "source": [
    "Please fill in your information and attach all the needed files in your final zip file uploaded.  \n",
    "**Name: []**  \n",
    "**Student Number: []**\n"
   ]
  },
  {
   "cell_type": "markdown",
   "metadata": {
    "id": "c850c2ae"
   },
   "source": [
    "# 0 Imports and Setups"
   ]
  },
  {
   "cell_type": "code",
   "execution_count": null,
   "metadata": {
    "id": "97537917"
   },
   "outputs": [],
   "source": [
    "import math\n",
    "import numpy as np\n",
    "from scipy.special import factorial\n",
    "import matplotlib.pyplot as plt\n",
    "import scipy.stats as st"
   ]
  },
  {
   "cell_type": "markdown",
   "metadata": {
    "id": "c379699d"
   },
   "source": [
    "Set the last three digits of your student number as input to the function below:"
   ]
  },
  {
   "cell_type": "code",
   "execution_count": null,
   "metadata": {
    "id": "48b5475f"
   },
   "outputs": [],
   "source": [
    "np.random.seed(123) #replace 123 with the last three digits of your student number"
   ]
  },
  {
   "cell_type": "markdown",
   "metadata": {
    "id": "ed758bcf"
   },
   "source": [
    "# 1 Estimation"
   ]
  },
  {
   "cell_type": "markdown",
   "metadata": {
    "id": "ee8dd384"
   },
   "source": [
    "# 1.1 Generating Random Samples"
   ]
  },
  {
   "cell_type": "markdown",
   "metadata": {
    "id": "0aa81287"
   },
   "source": [
    "Assume that n i.i.d samples are drawn from an exponential distribution with the following PDF:  \n",
    "$$\\begin{aligned}f(x_i|\\lambda) &= \\lambda e^{-\\lambda x_i}\\end{aligned}$$\n",
    "* For fixed $\\lambda = 0.25$, generate random sequences of sizes 10, 100, 500, and 1000, and store them in seperate files named *exp_{size}.npy* attatched in your final zip file.\n",
    "* Plot each of the sequqnces generated above."
   ]
  },
  {
   "cell_type": "code",
   "execution_count": null,
   "metadata": {
    "id": "556c4c2e"
   },
   "outputs": [],
   "source": [
    "#TODO"
   ]
  },
  {
   "cell_type": "markdown",
   "metadata": {
    "id": "8554cf42"
   },
   "source": [
    "# 1.2 MLE Estimation"
   ]
  },
  {
   "cell_type": "markdown",
   "metadata": {
    "id": "6b0de1be"
   },
   "source": [
    "* Find the log likelihood equation for the given distribution. Include your solution in your attached pdf file.\n",
    "* Suppose we have 40 candidates for $\\lambda$ which are in the following form:\n",
    "$$\\begin{aligned}\\lambda_{candidate} = 0.025i, (1\\leq i\\leq 40)\\end{aligned}$$\n",
    "Calculate and plot the log likelihood values for the candidates of $\\lambda$ for each of the four sequences generated in secion 1.1.\n",
    "* Find the MLE estimator and include it in your solution. Also find the best estimator of $\\lambda$ from the log likelihood values of the previous part for each of the four sequences generated in secion 1.1."
   ]
  },
  {
   "cell_type": "code",
   "execution_count": null,
   "metadata": {
    "id": "00379fd8"
   },
   "outputs": [],
   "source": [
    "#TODO"
   ]
  },
  {
   "cell_type": "markdown",
   "metadata": {
    "id": "776ee797"
   },
   "source": [
    "# 1.3 MAP Estimation"
   ]
  },
  {
   "cell_type": "markdown",
   "metadata": {
    "id": "2a25ec08"
   },
   "source": [
    "Gamma distrutione with the shape $k$ and the scale $\\theta$, noted by $G(k, \\theta)$, has the following PDF function:\n",
    "$$\\begin{aligned} f(x| k, \\theta) = \\frac{1}{\\Gamma(k)\\theta^{k}}x^{k - 1} e^{-\\frac{x}\\theta} \\end{aligned},$$\n",
    "where for any integer n:\n",
    "$$\\begin{aligned}\\Gamma(n) = (n-1)!\\end{aligned}$$\n",
    "* Suppose that the parameter $\\lambda$ of the exponential distribution is itself originated from the gamma distribution $G(2, 0.5)$. Plot the prior probabilities for the candidates of $\\lambda$ introduced in section 1.2, given this prior distribution.\n",
    "* Find the posterior distribution. Include your solution in your attatched pdf file.\n",
    "* Plot the posterior distribution for the candidates of $\\lambda$ for each of the four sequences generated in secion 1.1.\n",
    "* Find the MAP estimator and include it in your solution. Also find the best MAP estimator of $\\lambda$ using the probabilities obtained for the posterior distribution for each of the four sequences generated in secion 1.1."
   ]
  },
  {
   "cell_type": "code",
   "execution_count": null,
   "metadata": {
    "id": "9d9891e4"
   },
   "outputs": [],
   "source": [
    "#TODO"
   ]
  },
  {
   "cell_type": "markdown",
   "metadata": {
    "id": "cd2073f8"
   },
   "source": [
    "# 1.4 Conclusion and Analysis"
   ]
  },
  {
   "cell_type": "markdown",
   "metadata": {
    "id": "1c2cba44"
   },
   "source": [
    "Include your answers of the below questions in your attatched pdf file or in the cell below:\n",
    "* Compare the MAP and MLE estimators in the previous sections for the given different four sequqnces.\n",
    "* Compare the difference of the two estimators with the actual parameter ($\\lambda = 0.25$) with respect to the number of samples in each sequence. \n",
    "* Based on the results from part 1.2 and 1.3, conclude about the relation between these two estimators, as the number of samples increases."
   ]
  },
  {
   "cell_type": "code",
   "execution_count": null,
   "metadata": {
    "id": "b7c56bea"
   },
   "outputs": [],
   "source": [
    "#TODO"
   ]
  },
  {
   "cell_type": "markdown",
   "metadata": {
    "id": "76cfa092"
   },
   "source": [
    "# 2 Hypothesis Testing"
   ]
  },
  {
   "cell_type": "markdown",
   "metadata": {
    "id": "cb70b469"
   },
   "source": [
    "In this section, you are supposed to implement functions for performing Z-test and p-test. **You are not allowed to use the ready package implementations of these test functions.** Still, you may use built-in functions for  converting standard normal distribution probablities to areas under the normal curve and vice versa."
   ]
  },
  {
   "cell_type": "markdown",
   "metadata": {
    "id": "db265e9c"
   },
   "source": [
    "# 2.1 Function Implementation"
   ]
  },
  {
   "cell_type": "markdown",
   "metadata": {
    "id": "ab6cf896"
   },
   "source": [
    "Implement the hypothesis_test function. You are supposed to implement it as the function described in the cell below. Description, inputs, and output are provided in the cell below."
   ]
  },
  {
   "cell_type": "code",
   "execution_count": null,
   "metadata": {
    "id": "143c3914"
   },
   "outputs": [],
   "source": [
    "def z_test(samples, hypothesis_mean, true_variance, alpha, condition):\n",
    "    \"\"\"\n",
    "    Description:\n",
    "    The function applies hypothesis testing z_test on the collected samples given a null hypothesis.\n",
    "    \n",
    "    Inputs:\n",
    "    samples -> collected data samples to be tested\n",
    "    hypothesis_mean -> the mean value being tested\n",
    "    true_variance -> the actual variance of the samples (given in advance)\n",
    "    alpha -> level of significance of the test\n",
    "    condition -> one of the following string values: \"eq\", \"gte\", \"lte\" specifying the condition on the hypothesis mean\n",
    "                      \"eq\": if the whole population mean is equal to the hypothesis mean.\n",
    "                      \"gte\": if the whole population mean is greater than or equal to the hypothesis mean.\n",
    "                      \"lte\": if the whole population mean is less than or equal to the hypothesis mean.\n",
    "    \n",
    "    Outputs:\n",
    "    True if the null hypothesis is not rejected under the z_test with the specified conditions, False otherwise\n",
    "    \"\"\"\n",
    "    #TODO"
   ]
  },
  {
   "cell_type": "code",
   "execution_count": null,
   "metadata": {
    "id": "14c6b6eb"
   },
   "outputs": [],
   "source": [
    "def p_test(samples, hypothesis_mean, true_variance, alpha, rejection_side):\n",
    "    \"\"\"\n",
    "    Description:\n",
    "    The function applies hypothesis testing p_test on the collected samples given a null hypothesis.\n",
    "    \n",
    "    Inputs:\n",
    "    samples -> collected data samples to be tested\n",
    "    hypothesis_mean -> the mean value being tested\n",
    "    true_variance -> the actual variance of the samples (given in advance)\n",
    "    alpha -> level of significance of the test\n",
    "    condition -> one of the following string values: \"eq\", \"gte\", \"lte\" specifying the condition on the hypothesis mean\n",
    "                      \"eq\": if the whole population mean is equal to the hypothesis mean.\n",
    "                      \"gte\": if the whole population mean is greater than or equal to the hypothesis mean.\n",
    "                      \"lte\": if the whole population mean is less than or equal to the hypothesis mean.\n",
    "    Outputs:\n",
    "    True if the null hypothesis is not rejected under the p_test with the specified conditions, False otherwise\n",
    "    \"\"\"\n",
    "    #TODO"
   ]
  },
  {
   "cell_type": "markdown",
   "metadata": {
    "id": "1fcefa44"
   },
   "source": [
    "# 2.2 Applying the Tests"
   ]
  },
  {
   "cell_type": "markdown",
   "metadata": {
    "id": "0b29f253"
   },
   "source": [
    "In the cell below, load the samples given to you. Samples are provided in the attatched file **samples.npy**.    \n",
    "**Suppose the true variance for the sample space is 9. ($\\sigma^2=9$)**"
   ]
  },
  {
   "cell_type": "code",
   "execution_count": null,
   "metadata": {
    "id": "3bf5b19b"
   },
   "outputs": [],
   "source": [
    "#TODO"
   ]
  },
  {
   "cell_type": "markdown",
   "metadata": {
    "id": "ada3da9d"
   },
   "source": [
    "Examine the following hypotheses on the data using **z_test**, seperately with $\\alpha=0.05$ and $\\alpha=0.01$:\n",
    "* The mean of the whole population is 8.2.\n",
    "* The mean of the whole population is at most 10.\n",
    "* The mean of the whole population is at least 9.2\n"
   ]
  },
  {
   "cell_type": "code",
   "execution_count": null,
   "metadata": {
    "id": "2f8b7515"
   },
   "outputs": [],
   "source": [
    "#TODO"
   ]
  },
  {
   "cell_type": "markdown",
   "metadata": {
    "id": "837dd387"
   },
   "source": [
    "Examine the following hypotheses on the data using **p_test**, seperately with $\\alpha=0.05$ and $\\alpha=0.01$:\n",
    "\n",
    "* The mean of the whole population is 8.8.\n",
    "* The mean of the whole population is at most 9.\n",
    "* The mean of the whole population is at least 8.4."
   ]
  },
  {
   "cell_type": "code",
   "execution_count": null,
   "metadata": {
    "id": "6752acb9"
   },
   "outputs": [],
   "source": [
    "#TODO"
   ]
  },
  {
   "cell_type": "markdown",
   "metadata": {
    "id": "48fae1ba"
   },
   "source": [
    "# 2.3 Conclusion and Analysis"
   ]
  },
  {
   "cell_type": "markdown",
   "metadata": {
    "id": "11d308d2"
   },
   "source": [
    "Overally, conclude about the probable value ranges for the mean of the whole population using the results from the previous part. Include your answers in your attatched pdf file or in the cell below."
   ]
  },
  {
   "cell_type": "code",
   "execution_count": null,
   "metadata": {
    "id": "f53d9400"
   },
   "outputs": [],
   "source": [
    "#TODO"
   ]
  }
 ],
 "metadata": {
  "colab": {
   "name": "SP_00_01_PHW2.ipynb",
   "provenance": []
  },
  "kernelspec": {
   "display_name": "Python 3",
   "language": "python",
   "name": "python3"
  },
  "language_info": {
   "codemirror_mode": {
    "name": "ipython",
    "version": 3
   },
   "file_extension": ".py",
   "mimetype": "text/x-python",
   "name": "python",
   "nbconvert_exporter": "python",
   "pygments_lexer": "ipython3",
   "version": "3.7.6"
  }
 },
 "nbformat": 4,
 "nbformat_minor": 5
}
